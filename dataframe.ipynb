{
 "cells": [
  {
   "cell_type": "code",
   "execution_count": 1,
   "metadata": {},
   "outputs": [],
   "source": [
    "import pandas as pd"
   ]
  },
  {
   "cell_type": "code",
   "execution_count": 6,
   "metadata": {},
   "outputs": [
    {
     "data": {
      "text/plain": [
       "<bound method NDFrame.describe of            one piece  \\\n",
       "0          one piece   \n",
       "1          one piece   \n",
       "2          one piece   \n",
       "3          one piece   \n",
       "4          one piece   \n",
       "...              ...   \n",
       "1048  Bakemonogatari   \n",
       "1049  Bakemonogatari   \n",
       "1050  Bakemonogatari   \n",
       "1051  Bakemonogatari   \n",
       "1052  Bakemonogatari   \n",
       "\n",
       "     https://i.pinimg.com/236x/02/db/61/02db618b5f5a3a6584c489c5e2138bcb.jpg  \\\n",
       "0     https://i.pinimg.com/236x/47/96/31/4796310d37d...                        \n",
       "1     https://i.pinimg.com/236x/c4/66/d8/c466d827c44...                        \n",
       "2     https://i.pinimg.com/736x/3e/c2/6d/3ec26d7e107...                        \n",
       "3     https://i.pinimg.com/236x/57/30/2c/57302c0749f...                        \n",
       "4     https://i.pinimg.com/videos/thumbnails/origina...                        \n",
       "...                                                 ...                        \n",
       "1048  https://i.pinimg.com/236x/12/33/f9/1233f9a247b...                        \n",
       "1049  https://i.pinimg.com/236x/42/a1/66/42a166a9b99...                        \n",
       "1050  https://i.pinimg.com/236x/dd/9e/ef/dd9eefca79e...                        \n",
       "1051  https://i.pinimg.com/236x/44/dc/3f/44dc3ff41cc...                        \n",
       "1052  https://i.pinimg.com/236x/cb/0e/38/cb0e38ad839...                        \n",
       "\n",
       "       /pin/50876670784222324/  \n",
       "0       /pin/4433299627646113/  \n",
       "1      /pin/37154765669712171/  \n",
       "2     /pin/152770612353293074/  \n",
       "3     /pin/162622236539491339/  \n",
       "4     /pin/608619337156866118/  \n",
       "...                        ...  \n",
       "1048  /pin/422071796312649539/  \n",
       "1049    /pin/3799980927035462/  \n",
       "1050  /pin/483081497560339035/  \n",
       "1051  /pin/167407311127735619/  \n",
       "1052  /pin/209558188906137823/  \n",
       "\n",
       "[1053 rows x 3 columns]>"
      ]
     },
     "execution_count": 6,
     "metadata": {},
     "output_type": "execute_result"
    }
   ],
   "source": [
    "data = pd.read_csv('data.csv')\n",
    "data.describe"
   ]
  }
 ],
 "metadata": {
  "kernelspec": {
   "display_name": "Python 3",
   "language": "python",
   "name": "python3"
  },
  "language_info": {
   "codemirror_mode": {
    "name": "ipython",
    "version": 3
   },
   "file_extension": ".py",
   "mimetype": "text/x-python",
   "name": "python",
   "nbconvert_exporter": "python",
   "pygments_lexer": "ipython3",
   "version": "3.12.4"
  }
 },
 "nbformat": 4,
 "nbformat_minor": 2
}
